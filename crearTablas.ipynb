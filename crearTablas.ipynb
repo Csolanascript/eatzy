{
    "metadata": {
        "kernelspec": {
            "name": "SQL",
            "display_name": "SQL",
            "language": "sql"
        },
        "language_info": {
            "name": "sql",
            "version": ""
        }
    },
    "nbformat_minor": 2,
    "nbformat": 4,
    "cells": [
        {
            "cell_type": "markdown",
            "source": [
                "Crear tablas"
            ],
            "metadata": {
                "language": "sql",
                "azdata_cell_guid": "4b445b89-8c29-4af7-aee8-b3d36bca4d63"
            },
            "attachments": {}
        },
        {
            "cell_type": "code",
            "source": [
                "-- Eliminar la tabla Contiene (relacionada con Pedido y Productos)\n",
                "DROP TABLE IF EXISTS Contiene;\n",
                "\n",
                "-- Eliminar la tabla Pedido (relacionada con Cliente)\n",
                "DROP TABLE IF EXISTS Pedido;\n",
                "\n",
                "-- Eliminar la tabla Productos (relacionada con Restaurante)\n",
                "DROP TABLE IF EXISTS Productos;\n",
                "\n",
                "-- Eliminar la tabla Restaurante (relacionada con Propietario)\n",
                "DROP TABLE IF EXISTS Restaurante;\n",
                "\n",
                "-- Eliminar la tabla Propietario (relacionada con Usuario)\n",
                "DROP TABLE IF EXISTS Propietario;\n",
                "\n",
                "-- Eliminar la tabla Cliente (relacionada con Usuario)\n",
                "DROP TABLE IF EXISTS Cliente;\n",
                "\n",
                "-- Finalmente, eliminar la tabla Usuario\n",
                "DROP TABLE IF EXISTS Usuario;\n",
                "\n",
                "-- Eliminar la tabla Localidad (relacionada con Cliente y restaurante\n",
                "DROP TABLE IF EXISTS Localidad;\n",
                "\n",
                "-- Borrar la función que verificaba los propietarios\n",
                "DROP FUNCTION IF EXISTS check_propietario;\n",
                "\n",
                "-- Borrar la función que verificaba los clientes\n",
                "DROP FUNCTION IF EXISTS check_cliente;\n",
                "\n",
                "-- Borrar el tipo ENUM tipo_usuario\n",
                "DROP TYPE IF EXISTS tipo_usuario;\n",
                ""
            ],
            "metadata": {
                "language": "sql",
                "azdata_cell_guid": "a195c81a-6bc5-418f-96f1-acbe19c269d9"
            },
            "outputs": [
                {
                    "output_type": "display_data",
                    "data": {
                        "text/html": "DROP TABLE"
                    },
                    "metadata": {}
                },
                {
                    "output_type": "display_data",
                    "data": {
                        "text/html": "DROP TABLE"
                    },
                    "metadata": {}
                },
                {
                    "output_type": "display_data",
                    "data": {
                        "text/html": "DROP TABLE"
                    },
                    "metadata": {}
                },
                {
                    "output_type": "display_data",
                    "data": {
                        "text/html": "DROP TABLE"
                    },
                    "metadata": {}
                },
                {
                    "output_type": "display_data",
                    "data": {
                        "text/html": "DROP TABLE"
                    },
                    "metadata": {}
                },
                {
                    "output_type": "display_data",
                    "data": {
                        "text/html": "DROP TABLE"
                    },
                    "metadata": {}
                },
                {
                    "output_type": "display_data",
                    "data": {
                        "text/html": "DROP TABLE"
                    },
                    "metadata": {}
                },
                {
                    "output_type": "display_data",
                    "data": {
                        "text/html": "DROP TABLE"
                    },
                    "metadata": {}
                },
                {
                    "output_type": "display_data",
                    "data": {
                        "text/html": "DROP FUNCTION"
                    },
                    "metadata": {}
                },
                {
                    "output_type": "display_data",
                    "data": {
                        "text/html": "DROP FUNCTION"
                    },
                    "metadata": {}
                },
                {
                    "output_type": "display_data",
                    "data": {
                        "text/html": "DROP TYPE"
                    },
                    "metadata": {}
                },
                {
                    "output_type": "display_data",
                    "data": {
                        "text/html": "Total execution time: 00:00:00.877"
                    },
                    "metadata": {}
                }
            ],
            "execution_count": 23
        },
        {
            "cell_type": "code",
            "source": [
                "-- Crear ENUM para el tipo de usuario\n",
                "CREATE TYPE tipo_usuario AS ENUM ('Cliente', 'Propietario');\n",
                "\n",
                "-- Crear la tabla Localidad con CIUDAD como clave primaria\n",
                "CREATE TABLE Localidad (\n",
                "    CIUDAD VARCHAR(100) PRIMARY KEY\n",
                ");\n",
                "\n",
                "-- Tabla Usuario con CHECK para el campo TIPO utilizando ENUM\n",
                "CREATE TABLE Usuario (\n",
                "    CORREO VARCHAR(100) PRIMARY KEY,\n",
                "    NOMBRE_USUARIO VARCHAR(100) NOT NULL,\n",
                "    CONTRASENA VARCHAR(100) NOT NULL,\n",
                "    TIPO tipo_usuario NOT NULL\n",
                ");\n",
                "\n",
                "\n",
                "-- Modificar la tabla Cliente para hacer referencia a Localidad\n",
                "CREATE TABLE Cliente (\n",
                "    CORREO VARCHAR(100) PRIMARY KEY,\n",
                "    LOCALIDAD VARCHAR(100),\n",
                "    CALLE VARCHAR(100),\n",
                "    PISO VARCHAR(10),\n",
                "    NUMERO INT,\n",
                "    CODIGO_POSTAL VARCHAR(10),\n",
                "    FOREIGN KEY (LOCALIDAD) REFERENCES Localidad(CIUDAD),\n",
                "    FOREIGN KEY (CORREO) REFERENCES Usuario(CORREO)\n",
                ");\n",
                "\n",
                "-- Tabla Propietario, heredando de Usuario\n",
                "CREATE TABLE Propietario (\n",
                "    CORREO VARCHAR(100) PRIMARY KEY,\n",
                "    FOREIGN KEY (CORREO) REFERENCES Usuario(CORREO)\n",
                ");\n",
                "\n",
                "\n",
                "-- Modificar la tabla Restaurante para hacer referencia a Localidad\n",
                "CREATE TABLE Restaurante (\n",
                "    NOMBRE_RESTAURANTE VARCHAR(100) ,\n",
                "    NUMTELEFONO VARCHAR(15),\n",
                "    CATEGORIA VARCHAR(50),\n",
                "    CORREO VARCHAR(100),\n",
                "    LOCALIDAD VARCHAR(100) ,\n",
                "    UBICATION VARCHAR(100),\n",
                "    PRIMARY KEY (NOMBRE_RESTAURANTE, LOCALIDAD),\n",
                "    FOREIGN KEY (LOCALIDAD) REFERENCES Localidad(CIUDAD)\n",
                ");\n",
                "\n",
                "  CREATE TABLE Pedido (\n",
                "    ID INT PRIMARY KEY,\n",
                "    FECHA DATE,\n",
                "    PRECIO_TOTAL DECIMAL(10, 2),\n",
                "    CORREO VARCHAR(100),\n",
                "    FOREIGN KEY (CORREO) REFERENCES Cliente(CORREO)\n",
                "    );\n",
                "\n",
                "-- Tabla Productos\n",
                "CREATE TABLE Productos (\n",
                "    NOMBRE_PRODUCTO VARCHAR(100),\n",
                "    DESCRIPCION TEXT, \n",
                "    PRECIO DECIMAL(10, 2),\n",
                "    NOMBRE_RESTAURANTE VARCHAR(100),\n",
                "    LOCALIDAD VARCHAR(100),\n",
                "    PRIMARY KEY (NOMBRE_RESTAURANTE, LOCALIDAD, NOMBRE_PRODUCTO),\n",
                "    FOREIGN KEY (NOMBRE_RESTAURANTE, LOCALIDAD) REFERENCES Restaurante(NOMBRE_RESTAURANTE,LOCALIDAD)\n",
                ");\n",
                "\n",
                "-- Tabla Contiene\n",
                "CREATE TABLE Contiene (\n",
                "    ID INT,\n",
                "    NOMBRE_PRODUCTO VARCHAR(100),\n",
                "    UNIDADES INT,\n",
                "        NOMBRE_RESTAURANTE VARCHAR(100),\n",
                "    LOCALIDAD VARCHAR(100),\n",
                "    PRIMARY KEY (ID, NOMBRE_PRODUCTO,NOMBRE_RESTAURANTE, LOCALIDAD),\n",
                "    FOREIGN KEY (ID) REFERENCES Pedido(ID),\n",
                "    FOREIGN KEY (NOMBRE_PRODUCTO, NOMBRE_RESTAURANTE, LOCALIDAD) REFERENCES Productos(NOMBRE_PRODUCTO, NOMBRE_RESTAURANTE, LOCALIDAD)\n",
                ");\n",
                ""
            ],
            "metadata": {
                "azdata_cell_guid": "57e679c4-4d6a-4c80-8fbd-dc9b6d3e4e68",
                "language": "sql",
                "tags": []
            },
            "outputs": [
                {
                    "output_type": "display_data",
                    "data": {
                        "text/html": "CREATE TYPE"
                    },
                    "metadata": {}
                },
                {
                    "output_type": "display_data",
                    "data": {
                        "text/html": "CREATE TABLE"
                    },
                    "metadata": {}
                },
                {
                    "output_type": "display_data",
                    "data": {
                        "text/html": "CREATE TABLE"
                    },
                    "metadata": {}
                },
                {
                    "output_type": "display_data",
                    "data": {
                        "text/html": "CREATE TABLE"
                    },
                    "metadata": {}
                },
                {
                    "output_type": "display_data",
                    "data": {
                        "text/html": "CREATE TABLE"
                    },
                    "metadata": {}
                },
                {
                    "output_type": "display_data",
                    "data": {
                        "text/html": "CREATE TABLE"
                    },
                    "metadata": {}
                },
                {
                    "output_type": "display_data",
                    "data": {
                        "text/html": "CREATE TABLE"
                    },
                    "metadata": {}
                },
                {
                    "output_type": "display_data",
                    "data": {
                        "text/html": "CREATE TABLE"
                    },
                    "metadata": {}
                },
                {
                    "output_type": "display_data",
                    "data": {
                        "text/html": "CREATE TABLE"
                    },
                    "metadata": {}
                },
                {
                    "output_type": "display_data",
                    "data": {
                        "text/html": "Total execution time: 00:00:00.767"
                    },
                    "metadata": {}
                }
            ],
            "execution_count": 24
        },
        {
            "cell_type": "code",
            "source": [
                "-- Crear trigger function para verificar que solo Propietarios puedan crear restaurantes\n",
                "CREATE OR REPLACE FUNCTION check_propietario() RETURNS TRIGGER AS $$\n",
                "BEGIN\n",
                "    -- Verificar si el usuario tiene el tipo 'Propietario'\n",
                "    IF (SELECT TIPO FROM Usuario WHERE CORREO = NEW.CORREO) != 'Propietario' THEN\n",
                "        RAISE EXCEPTION 'Solo los propietarios pueden crear restaurantes';\n",
                "    END IF;\n",
                "    RETURN NEW;\n",
                "END;\n",
                "$$ LANGUAGE plpgsql;\n",
                "\n",
                "-- Crear trigger en la tabla cliente\n",
                "CREATE TRIGGER trigger_check_propietario\n",
                "BEFORE INSERT ON Propietario\n",
                "FOR EACH ROW\n",
                "EXECUTE FUNCTION check_propietario();\n",
                ""
            ],
            "metadata": {
                "azdata_cell_guid": "af957f34-82db-4b0a-9f67-955219f8c345",
                "language": "sql"
            },
            "outputs": [
                {
                    "output_type": "display_data",
                    "data": {
                        "text/html": "CREATE FUNCTION"
                    },
                    "metadata": {}
                },
                {
                    "output_type": "display_data",
                    "data": {
                        "text/html": "CREATE TRIGGER"
                    },
                    "metadata": {}
                },
                {
                    "output_type": "display_data",
                    "data": {
                        "text/html": "Total execution time: 00:00:00.237"
                    },
                    "metadata": {}
                }
            ],
            "execution_count": 25
        },
        {
            "cell_type": "code",
            "source": [
                "-- Crear trigger function para verificar que solo Clientes puedan crear pedidos\n",
                "CREATE OR REPLACE FUNCTION check_cliente() RETURNS TRIGGER AS $$\n",
                "BEGIN\n",
                "    -- Verificar si el usuario tiene el tipo 'Cliente'\n",
                "    IF (SELECT TIPO FROM Usuario WHERE CORREO = NEW.CORREO) != 'Cliente' THEN\n",
                "        RAISE EXCEPTION 'Solo los clientes pueden crear pedidos';\n",
                "    END IF;\n",
                "    RETURN NEW;\n",
                "END;\n",
                "$$ LANGUAGE plpgsql;\n",
                "\n",
                "-- Crear trigger en la tabla  cliente\n",
                "CREATE TRIGGER trigger_check_cliente\n",
                "BEFORE INSERT ON Cliente\n",
                "FOR EACH ROW\n",
                "EXECUTE FUNCTION check_cliente();\n",
                ""
            ],
            "metadata": {
                "azdata_cell_guid": "da5e28e2-e55a-44fc-b427-4f083795224a",
                "language": "sql"
            },
            "outputs": [
                {
                    "output_type": "display_data",
                    "data": {
                        "text/html": "CREATE FUNCTION"
                    },
                    "metadata": {}
                },
                {
                    "output_type": "display_data",
                    "data": {
                        "text/html": "CREATE TRIGGER"
                    },
                    "metadata": {}
                },
                {
                    "output_type": "display_data",
                    "data": {
                        "text/html": "Total execution time: 00:00:00.147"
                    },
                    "metadata": {}
                }
            ],
            "execution_count": 26
        },
        {
            "cell_type": "code",
            "source": [
                "\n",
                "-- 10. Inserciones masivas en la tabla Localidad (ciudades)\n",
                "INSERT INTO Localidad (CIUDAD)\n",
                "VALUES \n",
                "    ('Zaragoza'),\n",
                "    ('Madrid'),\n",
                "    ('Barcelona'),\n",
                "    ('Valencia'),\n",
                "    ('Sevilla'),\n",
                "    ('Bilbao');\n",
                "\n",
                "-- 11. Inserciones masivas en la tabla Usuario\n",
                "INSERT INTO Usuario (CORREO, NOMBRE_USUARIO, CONTRASENA, TIPO)\n",
                "VALUES \n",
                "    ('juan.perez@mail.com', 'Juan Pérez', 'pass123', 'Cliente'),\n",
                "    ('maria.lopez@mail.com', 'María López', 'pass234', 'Cliente'),\n",
                "    ('carlos.garcia@mail.com', 'Carlos García', 'pass345', 'Propietario'),\n",
                "    ('ana.gomez@mail.com', 'Ana Gómez', 'pass456', 'Propietario'),\n",
                "    ('luis.fernandez@mail.com', 'Luis Fernández', 'pass567', 'Cliente'),\n",
                "    ('laura.sanchez@mail.com', 'Laura Sánchez', 'pass678', 'Cliente'),\n",
                "    ('jose.martinez@mail.com', 'José Martínez', 'pass789', 'Propietario'),\n",
                "    ('patricia.diaz@mail.com', 'Patricia Díaz', 'pass890', 'Propietario'),\n",
                "    ('rafael.alvarez@mail.com', 'Rafael Álvarez', 'pass901', 'Cliente'),\n",
                "    ('andrea.lopez@mail.com', 'Andrea López', 'pass101', 'Cliente'),\n",
                "    ('pablo.rivera@mail.com', 'Pablo Rivera', 'pass111', 'Propietario'),\n",
                "    ('monica.garcia@mail.com', 'Mónica García', 'pass121', 'Propietario');\n",
                "\n",
                "-- 12. Inserciones masivas en la tabla Cliente\n",
                "INSERT INTO Cliente (CORREO, LOCALIDAD, CALLE, PISO, NUMERO, CODIGO_POSTAL)\n",
                "VALUES \n",
                "    ('juan.perez@mail.com', 'Zaragoza', 'Calle Mayor', '3A', 3, '50001'),\n",
                "    ('maria.lopez@mail.com', 'Madrid', 'Calle Real', '5B', 5, '28001'),\n",
                "    ('luis.fernandez@mail.com', 'Barcelona', 'Calle Gran Vía', '2C', 2, '08001'),\n",
                "    ('laura.sanchez@mail.com', 'Valencia', 'Calle Colón', '4A', 4, '46001'),\n",
                "    ('rafael.alvarez@mail.com', 'Sevilla', 'Calle Feria', '1D', 1, '41001'),\n",
                "    ('andrea.lopez@mail.com', 'Bilbao', 'Calle San Mamés', '3B', 3, '48001');\n",
                "\n",
                "-- 13. Inserciones masivas en la tabla Propietario\n",
                "INSERT INTO Propietario (CORREO)\n",
                "VALUES \n",
                "    ('carlos.garcia@mail.com'),\n",
                "    ('ana.gomez@mail.com'),\n",
                "    ('jose.martinez@mail.com'),\n",
                "    ('patricia.diaz@mail.com'),\n",
                "    ('pablo.rivera@mail.com'),\n",
                "    ('monica.garcia@mail.com');\n",
                "\n",
                "-- 14. Inserciones masivas en la tabla Restaurante\n",
                "INSERT INTO Restaurante (NOMBRE_RESTAURANTE, NUMTELEFONO, CATEGORIA, CORREO, LOCALIDAD)\n",
                "VALUES \n",
                "    ('Restaurante El Sol', '987654321', 'Mexicana', 'carlos.garcia@mail.com', 'Zaragoza'),\n",
                "    ('Restaurante La Luna', '912345678', 'Italiana', 'ana.gomez@mail.com', 'Madrid'),\n",
                "    ('Restaurante Los Sabores', '923456789', 'Española', 'jose.martinez@mail.com', 'Barcelona'),\n",
                "    ('Restaurante El Mar', '934567890', 'Mariscos', 'patricia.diaz@mail.com', 'Valencia'),\n",
                "    ('Restaurante Delicias', '945678901', 'Vegetariana', 'pablo.rivera@mail.com', 'Sevilla'),\n",
                "    ('Restaurante La Cima', '956789012', 'Francesa', 'monica.garcia@mail.com', 'Bilbao');\n",
                "\n",
                "-- 15. Inserciones masivas en la tabla Productos\n",
                "INSERT INTO Productos (NOMBRE_PRODUCTO, DESCRIPCION, PRECIO, NOMBRE_RESTAURANTE, LOCALIDAD)\n",
                "VALUES \n",
                "    ('Tacos', 'Tacos de carne al pastor', 8.50, 'Restaurante El Sol', 'Zaragoza'),\n",
                "    ('Burrito', 'Burrito de pollo', 9.00, 'Restaurante El Sol', 'Zaragoza'),\n",
                "    ('Pizza Margherita', 'Pizza con tomate y albahaca', 12.00, 'Restaurante La Luna', 'Madrid'),\n",
                "    ('Pizza 4 Quesos', 'Pizza con mezcla de cuatro quesos', 13.50, 'Restaurante La Luna', 'Madrid'),\n",
                "    ('Paella', 'Paella de mariscos', 18.00, 'Restaurante Los Sabores', 'Barcelona'),\n",
                "    ('Tortilla Española', 'Tortilla de patatas tradicional', 6.50, 'Restaurante Los Sabores', 'Barcelona'),\n",
                "    ('Gambas al ajillo', 'Gambas cocinadas con ajo', 14.00, 'Restaurante El Mar', 'Valencia'),\n",
                "    ('Pescado frito', 'Pescado frito con patatas', 15.50, 'Restaurante El Mar', 'Valencia'),\n",
                "    ('Ensalada César', 'Ensalada César con aderezo especial', 10.00, 'Restaurante Delicias', 'Sevilla'),\n",
                "    ('Tofu a la parrilla', 'Tofu marinado y asado a la parrilla', 12.50, 'Restaurante Delicias', 'Sevilla'),\n",
                "    ('Coq au Vin', 'Pollo cocido en vino tinto', 17.00, 'Restaurante La Cima', 'Bilbao'),\n",
                "    ('Quiche Lorraine', 'Tarta salada de tocino y queso', 14.50, 'Restaurante La Cima', 'Bilbao');\n",
                "\n",
                "-- 16. Inserciones masivas en la tabla Pedido\n",
                "INSERT INTO Pedido (ID, FECHA, PRECIO_TOTAL, CORREO)\n",
                "VALUES \n",
                "    (1, '2024-10-04', 25.50, 'juan.perez@mail.com'),\n",
                "    (2, '2024-10-05', 12.00, 'maria.lopez@mail.com'),\n",
                "    (3, '2024-10-06', 18.50, 'luis.fernandez@mail.com'),\n",
                "    (4, '2024-10-06', 23.00, 'laura.sanchez@mail.com'),\n",
                "    (5, '2024-10-07', 30.00, 'rafael.alvarez@mail.com'),\n",
                "    (6, '2024-10-08', 22.00, 'andrea.lopez@mail.com');\n",
                "\n",
                "-- 17. Inserciones masivas en la tabla Contiene\n",
                "INSERT INTO Contiene (ID, NOMBRE_PRODUCTO, UNIDADES, NOMBRE_RESTAURANTE, LOCALIDAD)\n",
                "VALUES \n",
                "    (1, 'Tacos', 2, 'Restaurante El Sol', 'Zaragoza'),\n",
                "    (1, 'Burrito', 1, 'Restaurante El Sol', 'Zaragoza'),\n",
                "    (2, 'Pizza Margherita', 1, 'Restaurante La Luna', 'Madrid'),\n",
                "    (2, 'Pizza 4 Quesos', 1, 'Restaurante La Luna', 'Madrid'),\n",
                "    (3, 'Paella', 1, 'Restaurante Los Sabores', 'Barcelona'),\n",
                "    (3, 'Tortilla Española', 2, 'Restaurante Los Sabores', 'Barcelona'),\n",
                "    (4, 'Gambas al ajillo', 2, 'Restaurante El Mar', 'Valencia'),\n",
                "    (5, 'Ensalada César', 1, 'Restaurante Delicias', 'Sevilla'),\n",
                "    (5, 'Tofu a la parrilla', 2, 'Restaurante Delicias', 'Sevilla'),\n",
                "    (6, 'Coq au Vin', 1, 'Restaurante La Cima', 'Bilbao'),\n",
                "    (6, 'Quiche Lorraine', 1, 'Restaurante La Cima', 'Bilbao');"
            ],
            "metadata": {
                "azdata_cell_guid": "35a2e79d-e217-475a-8036-6047c5292d13",
                "language": "sql",
                "tags": []
            },
            "outputs": [
                {
                    "output_type": "display_data",
                    "data": {
                        "text/html": "INSERT 0 6"
                    },
                    "metadata": {}
                },
                {
                    "output_type": "display_data",
                    "data": {
                        "text/html": "INSERT 0 12"
                    },
                    "metadata": {}
                },
                {
                    "output_type": "display_data",
                    "data": {
                        "text/html": "INSERT 0 6"
                    },
                    "metadata": {}
                },
                {
                    "output_type": "display_data",
                    "data": {
                        "text/html": "INSERT 0 6"
                    },
                    "metadata": {}
                },
                {
                    "output_type": "display_data",
                    "data": {
                        "text/html": "INSERT 0 6"
                    },
                    "metadata": {}
                },
                {
                    "output_type": "display_data",
                    "data": {
                        "text/html": "INSERT 0 12"
                    },
                    "metadata": {}
                },
                {
                    "output_type": "display_data",
                    "data": {
                        "text/html": "INSERT 0 6"
                    },
                    "metadata": {}
                },
                {
                    "output_type": "display_data",
                    "data": {
                        "text/html": "INSERT 0 11"
                    },
                    "metadata": {}
                },
                {
                    "output_type": "display_data",
                    "data": {
                        "text/html": "Total execution time: 00:00:00.757"
                    },
                    "metadata": {}
                }
            ],
            "execution_count": 27
        },
        {
            "cell_type": "code",
            "source": [
                "-- Esto debería ser rechazado porque 'juan.perez@mail.com' es un Cliente, no un Propietario\n",
                "INSERT INTO Propietario (CORREO)\n",
                "VALUES ('juan.perez@mail.com');\n",
                "\n",
                ""
            ],
            "metadata": {
                "azdata_cell_guid": "fe45147f-8cbc-4c5f-a712-ca8d3db049b6",
                "language": "sql",
                "tags": []
            },
            "outputs": [
                {
                    "output_type": "error",
                    "evalue": "Solo los propietarios pueden crear restaurantes",
                    "ename": "",
                    "traceback": []
                },
                {
                    "output_type": "display_data",
                    "data": {
                        "text/html": "Total execution time: 00:00:00.069"
                    },
                    "metadata": {}
                }
            ],
            "execution_count": 22
        },
        {
            "cell_type": "code",
            "source": [
                "-- Esto debería ser rechazado porque 'carlos.garcia@mail.com' es un Propietario, no un Cliente\n",
                "INSERT INTO Cliente (CORREO, LOCALIDAD, CALLE, PISO, NUMERO, CODIGO_POSTAL)\n",
                "VALUES ('carlos.garcia@mail.com', 'Zaragoza', 'Calle Falsa', '3A', 3, '50001');\n",
                "\n",
                ""
            ],
            "metadata": {
                "azdata_cell_guid": "1519b962-37ce-4bdc-b077-2ad37c8e4343",
                "language": "sql"
            },
            "outputs": [
                {
                    "output_type": "error",
                    "ename": "",
                    "evalue": "Solo los clientes pueden crear pedidos",
                    "traceback": []
                },
                {
                    "output_type": "display_data",
                    "data": {
                        "text/html": "Total execution time: 00:00:00.089"
                    },
                    "metadata": {}
                }
            ],
            "execution_count": 28
        }
    ]
}