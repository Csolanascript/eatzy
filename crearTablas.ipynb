{
    "metadata": {
        "kernelspec": {
            "name": "SQL",
            "display_name": "SQL",
            "language": "sql"
        },
        "language_info": {
            "name": "sql",
            "version": ""
        }
    },
    "nbformat_minor": 2,
    "nbformat": 4,
    "cells": [
        {
            "cell_type": "markdown",
            "source": [
                "Crear tablas"
            ],
            "metadata": {
                "language": "sql",
                "azdata_cell_guid": "4b445b89-8c29-4af7-aee8-b3d36bca4d63"
            },
            "attachments": {}
        },
        {
            "cell_type": "code",
            "source": [
                "-- Eliminar la tabla Contiene (relacionada con Pedido y Productos)\n",
                "DROP TABLE IF EXISTS Contiene;\n",
                "\n",
                "-- Eliminar la tabla Pedido (relacionada con Cliente)\n",
                "DROP TABLE IF EXISTS Pedido;\n",
                "\n",
                "-- Eliminar la tabla Productos (relacionada con Restaurante)\n",
                "DROP TABLE IF EXISTS Productos;\n",
                "\n",
                "-- Eliminar la tabla Restaurante (relacionada con Propietario)\n",
                "DROP TABLE IF EXISTS Restaurante;\n",
                "\n",
                "-- Eliminar la tabla Propietario (relacionada con Usuario)\n",
                "DROP TABLE IF EXISTS Propietario;\n",
                "\n",
                "-- Eliminar la tabla Cliente (relacionada con Usuario)\n",
                "DROP TABLE IF EXISTS Cliente;\n",
                "\n",
                "-- Finalmente, eliminar la tabla Usuario\n",
                "DROP TABLE IF EXISTS Usuario;\n",
                "\n",
                "-- Borrar la función que verificaba los propietarios\n",
                "DROP FUNCTION IF EXISTS check_propietario;\n",
                "\n",
                "-- Borrar la función que verificaba los clientes\n",
                "DROP FUNCTION IF EXISTS check_cliente;\n",
                "\n",
                "-- Borrar el tipo ENUM tipo_usuario\n",
                "DROP TYPE IF EXISTS tipo_usuario;\n",
                ""
            ],
            "metadata": {
                "language": "sql",
                "azdata_cell_guid": "a195c81a-6bc5-418f-96f1-acbe19c269d9"
            },
            "outputs": [
                {
                    "output_type": "display_data",
                    "data": {
                        "text/html": "DROP TABLE"
                    },
                    "metadata": {}
                },
                {
                    "output_type": "display_data",
                    "data": {
                        "text/html": "DROP TABLE"
                    },
                    "metadata": {}
                },
                {
                    "output_type": "display_data",
                    "data": {
                        "text/html": "DROP TABLE"
                    },
                    "metadata": {}
                },
                {
                    "output_type": "display_data",
                    "data": {
                        "text/html": "DROP TABLE"
                    },
                    "metadata": {}
                },
                {
                    "output_type": "display_data",
                    "data": {
                        "text/html": "DROP TABLE"
                    },
                    "metadata": {}
                },
                {
                    "output_type": "display_data",
                    "data": {
                        "text/html": "DROP TABLE"
                    },
                    "metadata": {}
                },
                {
                    "output_type": "display_data",
                    "data": {
                        "text/html": "DROP TABLE"
                    },
                    "metadata": {}
                },
                {
                    "output_type": "display_data",
                    "data": {
                        "text/html": "NOTICE: relation \"propietario\" does not exist, skipping"
                    },
                    "metadata": {}
                },
                {
                    "output_type": "display_data",
                    "data": {
                        "text/html": "DROP TRIGGER"
                    },
                    "metadata": {}
                },
                {
                    "output_type": "display_data",
                    "data": {
                        "text/html": "NOTICE: relation \"cliente\" does not exist, skipping"
                    },
                    "metadata": {}
                },
                {
                    "output_type": "display_data",
                    "data": {
                        "text/html": "DROP TRIGGER"
                    },
                    "metadata": {}
                },
                {
                    "output_type": "display_data",
                    "data": {
                        "text/html": "DROP FUNCTION"
                    },
                    "metadata": {}
                },
                {
                    "output_type": "display_data",
                    "data": {
                        "text/html": "DROP FUNCTION"
                    },
                    "metadata": {}
                },
                {
                    "output_type": "display_data",
                    "data": {
                        "text/html": "DROP TYPE"
                    },
                    "metadata": {}
                },
                {
                    "output_type": "display_data",
                    "data": {
                        "text/html": "Total execution time: 00:00:00.627"
                    },
                    "metadata": {}
                }
            ],
            "execution_count": 120
        },
        {
            "cell_type": "code",
            "source": [
                "-- Crear ENUM para el tipo de usuario\n",
                "CREATE TYPE tipo_usuario AS ENUM ('Cliente', 'Propietario');\n",
                "\n",
                "\n",
                "-- Tabla Usuario con CHECK para el campo TIPO\n",
                "CREATE TABLE Usuario (\n",
                "    CORREO VARCHAR(100) PRIMARY KEY,\n",
                "    NOMBRE_USUARIO VARCHAR(100) NOT NULL,\n",
                "    PASSWORD VARCHAR(100) NOT NULL,\n",
                "    TIPO VARCHAR(11) NOT NULL\n",
                ");\n",
                "\n",
                "\n",
                "-- Tabla Cliente, heredando de Usuario\n",
                "CREATE TABLE Cliente (\n",
                "    CORREO VARCHAR(100) PRIMARY KEY,\n",
                "    LOCALIDAD VARCHAR(100),\n",
                "    CALLE VARCHAR(100),\n",
                "    PISO VARCHAR(10),\n",
                "    NUMERO INT,\n",
                "    CODIGO_POSTAL VARCHAR(10),\n",
                "    FOREIGN KEY (CORREO) REFERENCES Usuario(CORREO)\n",
                ");\n",
                "\n",
                "-- Tabla Propietario, heredando de Usuario\n",
                "CREATE TABLE Propietario (\n",
                "    CORREO VARCHAR(100) PRIMARY KEY,\n",
                "    FOREIGN KEY (CORREO) REFERENCES Usuario(CORREO)\n",
                ");\n",
                "\n",
                "\n",
                "-- Solo los Propietarios pueden tener Restaurantes\n",
                "CREATE TABLE Restaurante (\n",
                "    NOMBRE_RESTAURANTE VARCHAR(100) PRIMARY KEY,\n",
                "    NUMTELEFONO VARCHAR(15),\n",
                "    CATEGORIA VARCHAR(50),\n",
                "    CORREO VARCHAR(100),\n",
                "    LOCALIDAD VARCHAR(100),\n",
                "    FOREIGN KEY (CORREO) REFERENCES Propietario(CORREO)\n",
                ");\n",
                "\n",
                "-- Solo los Clientes pueden hacer Pedidos\n",
                "CREATE TABLE Pedido (\n",
                "    ID INT PRIMARY KEY,\n",
                "    FECHA DATE,\n",
                "    PRECIO_TOTAL DECIMAL(10, 2),\n",
                "    CORREO VARCHAR(100),\n",
                "    FOREIGN KEY (CORREO) REFERENCES Cliente(CORREO)\n",
                ");\n",
                "\n",
                "-- Tabla Productos\n",
                "CREATE TABLE Productos (\n",
                "    NOMBRE_PRODUCTO VARCHAR(100) PRIMARY KEY,\n",
                "    DESCRIPCION TEXT,\n",
                "    PRECIO DECIMAL(10, 2),\n",
                "    NOMBRE_RESTAURANTE VARCHAR(100),\n",
                "    FOREIGN KEY (NOMBRE_RESTAURANTE) REFERENCES Restaurante(NOMBRE_RESTAURANTE)\n",
                ");\n",
                "\n",
                "-- Tabla Contiene\n",
                "CREATE TABLE Contiene (\n",
                "    ID INT,\n",
                "    NOMBRE_PRODUCTO VARCHAR(100),\n",
                "    UNIDADES INT,\n",
                "    PRIMARY KEY (ID, NOMBRE_PRODUCTO),\n",
                "    FOREIGN KEY (ID) REFERENCES Pedido(ID),\n",
                "    FOREIGN KEY (NOMBRE_PRODUCTO) REFERENCES Productos(NOMBRE_PRODUCTO)\n",
                ");\n",
                ""
            ],
            "metadata": {
                "azdata_cell_guid": "57e679c4-4d6a-4c80-8fbd-dc9b6d3e4e68",
                "language": "sql",
                "tags": []
            },
            "outputs": [
                {
                    "output_type": "display_data",
                    "data": {
                        "text/html": "CREATE TYPE"
                    },
                    "metadata": {}
                },
                {
                    "output_type": "display_data",
                    "data": {
                        "text/html": "CREATE TABLE"
                    },
                    "metadata": {}
                },
                {
                    "output_type": "display_data",
                    "data": {
                        "text/html": "CREATE TABLE"
                    },
                    "metadata": {}
                },
                {
                    "output_type": "display_data",
                    "data": {
                        "text/html": "CREATE TABLE"
                    },
                    "metadata": {}
                },
                {
                    "output_type": "display_data",
                    "data": {
                        "text/html": "CREATE TABLE"
                    },
                    "metadata": {}
                },
                {
                    "output_type": "display_data",
                    "data": {
                        "text/html": "CREATE TABLE"
                    },
                    "metadata": {}
                },
                {
                    "output_type": "display_data",
                    "data": {
                        "text/html": "CREATE TABLE"
                    },
                    "metadata": {}
                },
                {
                    "output_type": "display_data",
                    "data": {
                        "text/html": "CREATE TABLE"
                    },
                    "metadata": {}
                },
                {
                    "output_type": "display_data",
                    "data": {
                        "text/html": "Total execution time: 00:00:00.586"
                    },
                    "metadata": {}
                }
            ],
            "execution_count": 114
        },
        {
            "cell_type": "code",
            "source": [
                "-- Crear trigger function para verificar que solo Propietarios puedan crear restaurantes\n",
                "CREATE OR REPLACE FUNCTION check_propietario() RETURNS TRIGGER AS $$\n",
                "BEGIN\n",
                "    -- Verificar si el usuario tiene el tipo 'Propietario'\n",
                "    IF (SELECT TIPO FROM Usuario WHERE CORREO = NEW.CORREO) != 'Propietario' THEN\n",
                "        RAISE EXCEPTION 'Solo los propietarios pueden crear restaurantes';\n",
                "    END IF;\n",
                "    RETURN NEW;\n",
                "END;\n",
                "$$ LANGUAGE plpgsql;\n",
                "\n",
                "-- Crear trigger en la tabla cliente\n",
                "CREATE TRIGGER trigger_check_propietario\n",
                "BEFORE INSERT ON Propietario\n",
                "FOR EACH ROW\n",
                "EXECUTE FUNCTION check_propietario();\n",
                ""
            ],
            "metadata": {
                "azdata_cell_guid": "af957f34-82db-4b0a-9f67-955219f8c345",
                "language": "sql"
            },
            "outputs": [
                {
                    "output_type": "display_data",
                    "data": {
                        "text/html": "CREATE FUNCTION"
                    },
                    "metadata": {}
                },
                {
                    "output_type": "display_data",
                    "data": {
                        "text/html": "CREATE TRIGGER"
                    },
                    "metadata": {}
                },
                {
                    "output_type": "display_data",
                    "data": {
                        "text/html": "Total execution time: 00:00:00.098"
                    },
                    "metadata": {}
                }
            ],
            "execution_count": 115
        },
        {
            "cell_type": "code",
            "source": [
                "-- Crear trigger function para verificar que solo Clientes puedan crear pedidos\n",
                "CREATE OR REPLACE FUNCTION check_cliente() RETURNS TRIGGER AS $$\n",
                "BEGIN\n",
                "    -- Verificar si el usuario tiene el tipo 'Cliente'\n",
                "    IF (SELECT TIPO FROM Usuario WHERE CORREO = NEW.CORREO) != 'Cliente' THEN\n",
                "        RAISE EXCEPTION 'Solo los clientes pueden crear pedidos';\n",
                "    END IF;\n",
                "    RETURN NEW;\n",
                "END;\n",
                "$$ LANGUAGE plpgsql;\n",
                "\n",
                "-- Crear trigger en la tabla  cliente\n",
                "CREATE TRIGGER trigger_check_cliente\n",
                "BEFORE INSERT ON Cliente\n",
                "FOR EACH ROW\n",
                "EXECUTE FUNCTION check_cliente();\n",
                ""
            ],
            "metadata": {
                "azdata_cell_guid": "da5e28e2-e55a-44fc-b427-4f083795224a",
                "language": "sql"
            },
            "outputs": [
                {
                    "output_type": "display_data",
                    "data": {
                        "text/html": "CREATE FUNCTION"
                    },
                    "metadata": {}
                },
                {
                    "output_type": "display_data",
                    "data": {
                        "text/html": "CREATE TRIGGER"
                    },
                    "metadata": {}
                },
                {
                    "output_type": "display_data",
                    "data": {
                        "text/html": "Total execution time: 00:00:00.099"
                    },
                    "metadata": {}
                }
            ],
            "execution_count": 116
        },
        {
            "cell_type": "code",
            "source": [
                "-- Inserciones masivas en la tabla Usuario\n",
                "INSERT INTO Usuario (CORREO, NOMBRE_USUARIO, PASSWORD, TIPO)\n",
                "VALUES \n",
                "('juan.perez@mail.com', 'Juan Pérez', 'pass123', 'Cliente'),\n",
                "('maria.lopez@mail.com', 'María López', 'pass234', 'Cliente'),\n",
                "('carlos.garcia@mail.com', 'Carlos García', 'pass345', 'Propietario'),\n",
                "('ana.gomez@mail.com', 'Ana Gómez', 'pass456', 'Propietario'),\n",
                "('luis.fernandez@mail.com', 'Luis Fernández', 'pass567', 'Cliente'),\n",
                "('laura.sanchez@mail.com', 'Laura Sánchez', 'pass678', 'Cliente'),\n",
                "('jose.martinez@mail.com', 'José Martínez', 'pass789', 'Propietario'),\n",
                "('patricia.diaz@mail.com', 'Patricia Díaz', 'pass890', 'Propietario'),\n",
                "('rafael.alvarez@mail.com', 'Rafael Álvarez', 'pass901', 'Cliente'),\n",
                "('andrea.lopez@mail.com', 'Andrea López', 'pass101', 'Cliente'),\n",
                "('pablo.rivera@mail.com', 'Pablo Rivera', 'pass111', 'Propietario'),\n",
                "('monica.garcia@mail.com', 'Mónica García', 'pass121', 'Propietario');\n",
                "\n",
                "-- Inserciones masivas en la tabla Cliente\n",
                "INSERT INTO Cliente (CORREO, LOCALIDAD, CALLE, PISO, NUMERO, CODIGO_POSTAL)\n",
                "VALUES \n",
                "('juan.perez@mail.com', 'Zaragoza', 'Calle Mayor', '3A', 3, '50001'),\n",
                "('maria.lopez@mail.com', 'Madrid', 'Calle Real', '5B', 5, '28001'),\n",
                "('luis.fernandez@mail.com', 'Barcelona', 'Calle Gran Vía', '2C', 2, '08001'),\n",
                "('laura.sanchez@mail.com', 'Valencia', 'Calle Colón', '4A', 4, '46001'),\n",
                "('rafael.alvarez@mail.com', 'Sevilla', 'Calle Feria', '1D', 1, '41001'),\n",
                "('andrea.lopez@mail.com', 'Bilbao', 'Calle San Mamés', '3B', 3, '48001');\n",
                "\n",
                "-- Inserciones masivas en la tabla Propietario\n",
                "INSERT INTO Propietario (CORREO)\n",
                "VALUES \n",
                "('carlos.garcia@mail.com'),\n",
                "('ana.gomez@mail.com'),\n",
                "('jose.martinez@mail.com'),\n",
                "('patricia.diaz@mail.com'),\n",
                "('pablo.rivera@mail.com'),\n",
                "('monica.garcia@mail.com');\n",
                "\n",
                "-- Inserciones masivas en la tabla Restaurante\n",
                "INSERT INTO Restaurante (NOMBRE_RESTAURANTE, NUMTELEFONO, CATEGORIA, CORREO, LOCALIDAD)\n",
                "VALUES \n",
                "('Restaurante El Sol', '987654321', 'Mexicana', 'carlos.garcia@mail.com', 'Zaragoza'),\n",
                "('Restaurante La Luna', '912345678', 'Italiana', 'ana.gomez@mail.com', 'Madrid'),\n",
                "('Restaurante Los Sabores', '923456789', 'Española', 'jose.martinez@mail.com', 'Barcelona'),\n",
                "('Restaurante El Mar', '934567890', 'Mariscos', 'patricia.diaz@mail.com', 'Valencia'),\n",
                "('Restaurante Delicias', '945678901', 'Vegetariana', 'pablo.rivera@mail.com', 'Sevilla'),\n",
                "('Restaurante La Cima', '956789012', 'Francesa', 'monica.garcia@mail.com', 'Bilbao');\n",
                "\n",
                "\n",
                "-- Inserciones masivas en la tabla Productos\n",
                "INSERT INTO Productos (NOMBRE_PRODUCTO, DESCRIPCION, PRECIO, NOMBRE_RESTAURANTE)\n",
                "VALUES \n",
                "('Tacos', 'Tacos de carne al pastor', 8.50, 'Restaurante El Sol'),\n",
                "('Burrito', 'Burrito de pollo', 9.00, 'Restaurante El Sol'),\n",
                "('Pizza Margherita', 'Pizza con tomate y albahaca', 12.00, 'Restaurante La Luna'),\n",
                "('Pizza 4 Quesos', 'Pizza con mezcla de cuatro quesos', 13.50, 'Restaurante La Luna'),\n",
                "('Paella', 'Paella de mariscos', 18.00, 'Restaurante Los Sabores'),\n",
                "('Tortilla Española', 'Tortilla de patatas tradicional', 6.50, 'Restaurante Los Sabores'),\n",
                "('Gambas al ajillo', 'Gambas cocinadas con ajo', 14.00, 'Restaurante El Mar'),\n",
                "('Pescado frito', 'Pescado frito con patatas', 15.50, 'Restaurante El Mar'),\n",
                "('Ensalada César', 'Ensalada César con aderezo especial', 10.00, 'Restaurante Delicias'),\n",
                "('Tofu a la parrilla', 'Tofu marinado y asado a la parrilla', 12.50, 'Restaurante Delicias'),\n",
                "('Coq au Vin', 'Pollo cocido en vino tinto', 17.00, 'Restaurante La Cima'),\n",
                "('Quiche Lorraine', 'Tarta salada de tocino y queso', 14.50, 'Restaurante La Cima');\n",
                "\n",
                "\n",
                "-- Inserciones masivas en la tabla Pedido\n",
                "INSERT INTO Pedido (ID, FECHA, PRECIO_TOTAL, CORREO)\n",
                "VALUES \n",
                "(1, '2024-10-04', 25.50, 'juan.perez@mail.com'),\n",
                "(2, '2024-10-05', 12.00, 'maria.lopez@mail.com'),\n",
                "(3, '2024-10-06', 18.50, 'luis.fernandez@mail.com'),\n",
                "(4, '2024-10-06', 23.00, 'laura.sanchez@mail.com'),\n",
                "(5, '2024-10-07', 30.00, 'rafael.alvarez@mail.com'),\n",
                "(6, '2024-10-08', 22.00, 'andrea.lopez@mail.com');\n",
                "\n",
                "\n",
                "-- Inserciones masivas en la tabla Contiene\n",
                "INSERT INTO Contiene (ID, NOMBRE_PRODUCTO, UNIDADES)\n",
                "VALUES \n",
                "(1, 'Tacos', 2),\n",
                "(1, 'Burrito', 1),\n",
                "(2, 'Pizza Margherita', 1),\n",
                "(2, 'Pizza 4 Quesos', 1),\n",
                "(3, 'Paella', 1),\n",
                "(3, 'Tortilla Española', 2),\n",
                "(4, 'Gambas al ajillo', 2),\n",
                "(5, 'Ensalada César', 1),\n",
                "(5, 'Tofu a la parrilla', 2),\n",
                "(6, 'Coq au Vin', 1),\n",
                "(6, 'Quiche Lorraine', 1);\n",
                ""
            ],
            "metadata": {
                "azdata_cell_guid": "35a2e79d-e217-475a-8036-6047c5292d13",
                "language": "sql",
                "tags": []
            },
            "outputs": [
                {
                    "output_type": "display_data",
                    "data": {
                        "text/html": "INSERT 0 12"
                    },
                    "metadata": {}
                },
                {
                    "output_type": "display_data",
                    "data": {
                        "text/html": "INSERT 0 6"
                    },
                    "metadata": {}
                },
                {
                    "output_type": "display_data",
                    "data": {
                        "text/html": "INSERT 0 6"
                    },
                    "metadata": {}
                },
                {
                    "output_type": "display_data",
                    "data": {
                        "text/html": "INSERT 0 6"
                    },
                    "metadata": {}
                },
                {
                    "output_type": "display_data",
                    "data": {
                        "text/html": "INSERT 0 12"
                    },
                    "metadata": {}
                },
                {
                    "output_type": "display_data",
                    "data": {
                        "text/html": "INSERT 0 6"
                    },
                    "metadata": {}
                },
                {
                    "output_type": "display_data",
                    "data": {
                        "text/html": "INSERT 0 11"
                    },
                    "metadata": {}
                },
                {
                    "output_type": "display_data",
                    "data": {
                        "text/html": "Total execution time: 00:00:00.731"
                    },
                    "metadata": {}
                }
            ],
            "execution_count": 117
        },
        {
            "cell_type": "code",
            "source": [
                "-- Esto debería ser rechazado porque 'juan.perez@mail.com' es un Cliente, no un Propietario\n",
                "INSERT INTO Propietario (CORREO)\n",
                "VALUES ('juan.perez@mail.com');\n",
                "\n",
                ""
            ],
            "metadata": {
                "azdata_cell_guid": "fe45147f-8cbc-4c5f-a712-ca8d3db049b6",
                "language": "sql"
            },
            "outputs": [
                {
                    "output_type": "error",
                    "evalue": "Solo los propietarios pueden crear restaurantes",
                    "ename": "",
                    "traceback": []
                },
                {
                    "output_type": "display_data",
                    "data": {
                        "text/html": "Total execution time: 00:00:00.048"
                    },
                    "metadata": {}
                }
            ],
            "execution_count": 119
        },
        {
            "cell_type": "code",
            "source": [
                "-- Esto debería ser rechazado porque 'carlos.garcia@mail.com' es un Propietario, no un Cliente\n",
                "INSERT INTO Cliente (CORREO, LOCALIDAD, CALLE, PISO, NUMERO, CODIGO_POSTAL)\n",
                "VALUES ('carlos.garcia@mail.com', 'Zaragoza', 'Calle Falsa', '3A', 3, '50001');\n",
                "\n",
                ""
            ],
            "metadata": {
                "azdata_cell_guid": "1519b962-37ce-4bdc-b077-2ad37c8e4343",
                "language": "sql"
            },
            "outputs": [
                {
                    "output_type": "error",
                    "evalue": "Solo los clientes pueden crear pedidos",
                    "ename": "",
                    "traceback": []
                },
                {
                    "output_type": "display_data",
                    "data": {
                        "text/html": "Total execution time: 00:00:00.118"
                    },
                    "metadata": {}
                }
            ],
            "execution_count": 86
        }
    ]
}